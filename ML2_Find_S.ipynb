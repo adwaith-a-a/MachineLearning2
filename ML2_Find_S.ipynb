{
  "nbformat": 4,
  "nbformat_minor": 0,
  "metadata": {
    "colab": {
      "provenance": [],
      "authorship_tag": "ABX9TyN3Hqh5GfNeNn339wmPnBNB",
      "include_colab_link": true
    },
    "kernelspec": {
      "name": "python3",
      "display_name": "Python 3"
    },
    "language_info": {
      "name": "python"
    }
  },
  "cells": [
    {
      "cell_type": "markdown",
      "metadata": {
        "id": "view-in-github",
        "colab_type": "text"
      },
      "source": [
        "<a href=\"https://colab.research.google.com/github/adwaith-a-a/MachineLearning2/blob/main/ML2_Find_S.ipynb\" target=\"_parent\"><img src=\"https://colab.research.google.com/assets/colab-badge.svg\" alt=\"Open In Colab\"/></a>"
      ]
    },
    {
      "cell_type": "code",
      "execution_count": 1,
      "metadata": {
        "id": "XyGGMrBuHNpi",
        "outputId": "69035d01-1f95-4d21-a9a6-c4e81d08b1cc",
        "colab": {
          "base_uri": "https://localhost:8080/"
        }
      },
      "outputs": [
        {
          "output_type": "stream",
          "name": "stdout",
          "text": [
            "Hypothesis: ['Sunny', 'Warm', '?', 'Strong', '?', '?']\n"
          ]
        }
      ],
      "source": [
        "def find_s(dataset):\n",
        "    hypothesis = dataset[0][: -1]\n",
        "    for example in dataset:\n",
        "        if example[-1] == \"Yes\":\n",
        "            for i in range(len(hypothesis)):\n",
        "                if example[i] != hypothesis[i]:\n",
        "                    hypothesis[i] = \"?\"\n",
        "    return hypothesis\n",
        "\n",
        "dataset = [\n",
        "    ['Sunny', 'Warm', 'Normal', 'Strong', 'Warm', 'Same', 'Yes'],\n",
        "    ['Sunny', 'Warm', 'High', 'Strong', 'Warm', 'Same', 'Yes'],\n",
        "    ['Rainy', 'Warm', 'High', 'Strong', 'Warm', 'Change', 'No'],\n",
        "    ['Sunny', 'Warm', 'High', 'Strong', 'Cool', 'Change', 'Yes'],\n",
        "    ['Rainy', 'Cold', 'High', 'Strong', 'warm', 'Change', 'No']\n",
        "]\n",
        "\n",
        "hypothesis = find_s(dataset)\n",
        "print(\"Hypothesis:\", hypothesis)"
      ]
    }
  ]
}