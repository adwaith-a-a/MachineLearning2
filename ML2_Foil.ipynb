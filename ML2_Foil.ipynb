{
  "nbformat": 4,
  "nbformat_minor": 0,
  "metadata": {
    "colab": {
      "provenance": [],
      "authorship_tag": "ABX9TyMq6OxA+q45doCLB0c7U5uf",
      "include_colab_link": true
    },
    "kernelspec": {
      "name": "python3",
      "display_name": "Python 3"
    },
    "language_info": {
      "name": "python"
    }
  },
  "cells": [
    {
      "cell_type": "markdown",
      "metadata": {
        "id": "view-in-github",
        "colab_type": "text"
      },
      "source": [
        "<a href=\"https://colab.research.google.com/github/adwaith-a-a/MachineLearning2/blob/main/ML2_Foil.ipynb\" target=\"_parent\"><img src=\"https://colab.research.google.com/assets/colab-badge.svg\" alt=\"Open In Colab\"/></a>"
      ]
    },
    {
      "cell_type": "code",
      "source": [
        "pip install pandas scikit-learn wittgenstein\n"
      ],
      "metadata": {
        "colab": {
          "base_uri": "https://localhost:8080/"
        },
        "id": "Qn9c88LkJqT4",
        "outputId": "1b3ef6ee-35ba-4afc-fe40-32f036404f46"
      },
      "execution_count": null,
      "outputs": [
        {
          "output_type": "stream",
          "name": "stdout",
          "text": [
            "Requirement already satisfied: pandas in /usr/local/lib/python3.12/dist-packages (2.2.2)\n",
            "Requirement already satisfied: scikit-learn in /usr/local/lib/python3.12/dist-packages (1.6.1)\n",
            "Collecting wittgenstein\n",
            "  Downloading wittgenstein-0.3.4-py3-none-any.whl.metadata (11 kB)\n",
            "Requirement already satisfied: numpy>=1.26.0 in /usr/local/lib/python3.12/dist-packages (from pandas) (2.0.2)\n",
            "Requirement already satisfied: python-dateutil>=2.8.2 in /usr/local/lib/python3.12/dist-packages (from pandas) (2.9.0.post0)\n",
            "Requirement already satisfied: pytz>=2020.1 in /usr/local/lib/python3.12/dist-packages (from pandas) (2025.2)\n",
            "Requirement already satisfied: tzdata>=2022.7 in /usr/local/lib/python3.12/dist-packages (from pandas) (2025.2)\n",
            "Requirement already satisfied: scipy>=1.6.0 in /usr/local/lib/python3.12/dist-packages (from scikit-learn) (1.16.2)\n",
            "Requirement already satisfied: joblib>=1.2.0 in /usr/local/lib/python3.12/dist-packages (from scikit-learn) (1.5.2)\n",
            "Requirement already satisfied: threadpoolctl>=3.1.0 in /usr/local/lib/python3.12/dist-packages (from scikit-learn) (3.6.0)\n",
            "Requirement already satisfied: six>=1.5 in /usr/local/lib/python3.12/dist-packages (from python-dateutil>=2.8.2->pandas) (1.17.0)\n",
            "Downloading wittgenstein-0.3.4-py3-none-any.whl (110 kB)\n",
            "\u001b[2K   \u001b[90m━━━━━━━━━━━━━━━━━━━━━━━━━━━━━━━━━━━━━━━━\u001b[0m \u001b[32m110.6/110.6 kB\u001b[0m \u001b[31m3.7 MB/s\u001b[0m eta \u001b[36m0:00:00\u001b[0m\n",
            "\u001b[?25hInstalling collected packages: wittgenstein\n",
            "Successfully installed wittgenstein-0.3.4\n"
          ]
        }
      ]
    },
    {
      "cell_type": "code",
      "execution_count": null,
      "metadata": {
        "colab": {
          "base_uri": "https://localhost:8080/"
        },
        "id": "-2QohK_HIO19",
        "outputId": "019b5b6d-cb1d-43c2-b1aa-5d72110bb582"
      },
      "outputs": [
        {
          "output_type": "stream",
          "name": "stdout",
          "text": [
            "\n",
            "=== RIPPER Rules ===\n",
            "[[petalwidth(cm)=<0.2] V [petalwidth(cm)=0.2-1.0^sepallength(cm)=5.0-5.22] V [petalwidth(cm)=0.2-1.0^petallength(cm)=<1.4] V [sepalwidth(cm)=3.4-3.5] V [petalwidth(cm)=0.2-1.0^sepalwidth(cm)=>3.5]]\n",
            "\n",
            "Accuracy on test set: 0.83\n",
            "\n",
            "=== FOIL Learned Rules ===\n",
            "IF Outlook=Overcast THEN Play=Yes\n",
            "IF  THEN Play=Yes\n"
          ]
        }
      ],
      "source": [
        "\n",
        "import pandas as pd\n",
        "from sklearn.datasets import load_iris\n",
        "from sklearn.model_selection import train_test_split\n",
        "import wittgenstein as lw\n",
        "\n",
        "\n",
        "data = load_iris(as_frame=True)\n",
        "df = data.frame\n",
        "df['target'] = data.target_names[data.target]\n",
        "\n",
        "train, test = train_test_split(df, test_size=0.3, random_state=42)\n",
        "\n",
        "ripper = lw.RIPPER()\n",
        "ripper.fit(train, class_feat='target', pos_class='setosa')\n",
        "\n",
        "print(\"\\n=== RIPPER Rules ===\")\n",
        "print(ripper.ruleset_)\n",
        "\n",
        "acc = ripper.score(test, y='target')\n",
        "print(f\"\\nAccuracy on test set: {acc:.2f}\")\n",
        "\n",
        "\n",
        "import numpy as np\n",
        "\n",
        "def foil_gain(p0, n0, p1, n1):\n",
        "    \"\"\"Compute FOIL gain for a candidate literal.\"\"\"\n",
        "    if p1 == 0: return 0\n",
        "    return p1 * (np.log2(p1 / (p1 + n1)) - np.log2(p0 / (p0 + n0)))\n",
        "\n",
        "def foil_algorithm(data, target_col):\n",
        "    \"\"\"Simple FOIL-like learner.\"\"\"\n",
        "    rules = []\n",
        "    remaining = data.copy()\n",
        "\n",
        "    while True:\n",
        "        rule_conditions = []\n",
        "        pos = remaining[remaining[target_col] == 1]\n",
        "        neg = remaining[remaining[target_col] == 0]\n",
        "        if len(pos) == 0: break\n",
        "\n",
        "        while len(neg) > 0:\n",
        "            best_gain = 0\n",
        "            best_literal = None\n",
        "            for col in data.columns:\n",
        "                if col == target_col: continue\n",
        "                for val in data[col].unique():\n",
        "                    subset = remaining[remaining[col] == val]\n",
        "                    p1 = len(subset[subset[target_col] == 1])\n",
        "                    n1 = len(subset[subset[target_col] == 0])\n",
        "                    gain = foil_gain(len(pos), len(neg), p1, n1)\n",
        "                    if gain > best_gain:\n",
        "                        best_gain = gain\n",
        "                        best_literal = (col, val)\n",
        "\n",
        "            if best_literal is None: break\n",
        "            col, val = best_literal\n",
        "            rule_conditions.append((col, val))\n",
        "            remaining = remaining[remaining[col] == val]\n",
        "            pos = remaining[remaining[target_col] == 1]\n",
        "            neg = remaining[remaining[target_col] == 0]\n",
        "\n",
        "        rule = {\"IF\": rule_conditions, \"THEN\": 1}\n",
        "        rules.append(rule)\n",
        "        covered = np.ones(len(data), dtype=bool)\n",
        "        for (col, val) in rule_conditions:\n",
        "            covered &= (data[col] == val)\n",
        "        data = data[~((data[target_col] == 1) & covered)]\n",
        "\n",
        "        if len(data[data[target_col] == 1]) == 0:\n",
        "            break\n",
        "\n",
        "    return rules\n",
        "\n",
        "toy = pd.DataFrame({\n",
        "    \"Outlook\": [\"Sunny\", \"Sunny\", \"Overcast\", \"Rain\", \"Rain\", \"Rain\", \"Overcast\"],\n",
        "    \"Temp\": [\"Hot\", \"Hot\", \"Hot\", \"Mild\", \"Cool\", \"Cool\", \"Mild\"],\n",
        "    \"Play\": [0, 0, 1, 1, 1, 0, 1]\n",
        "})\n",
        "\n",
        "foil_rules = foil_algorithm(toy, \"Play\")\n",
        "print(\"\\n=== FOIL Learned Rules ===\")\n",
        "for rule in foil_rules:\n",
        "    conditions = \" AND \".join([f\"{c}={v}\" for c,v in rule[\"IF\"]])\n",
        "    print(f\"IF {conditions} THEN Play=Yes\")\n"
      ]
    }
  ]
}